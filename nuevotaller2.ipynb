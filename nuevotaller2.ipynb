{
 "cells": [
  {
   "cell_type": "code",
   "execution_count": 9,
   "metadata": {},
   "outputs": [
    {
     "name": "stdout",
     "output_type": "stream",
     "text": [
      "[2017    7    1    0]\n"
     ]
    }
   ],
   "source": [
    "import numpy as np\n",
    "import urllib.request\n",
    "\n",
    "# URL del archivo de datos\n",
    "url = \"https://ngdc.noaa.gov/stp/space-weather/solar-data/solar-indices/sunspot-numbers/american/lists/list_aavso-arssn_daily.txt\"\n",
    "\n",
    "# Descargar y leer el archivo línea por línea\n",
    "with urllib.request.urlopen(url) as response:\n",
    "    lines = [line.decode('utf-8').strip() for line in response.readlines() if not line.startswith(b'#')]\n",
    "\n",
    "# Dividir cada línea en columnas\n",
    "data = [line.split() for line in lines]\n",
    "\n",
    "# Filtrar filas que no comienzan con números (pueden tener texto en lugar de datos)\n",
    "data = [row for row in data if row[0].replace('.', '', 1).isdigit()]\n",
    "\n",
    "# Encontrar el número máximo de columnas\n",
    "max_columns = max(len(row) for row in data)\n",
    "\n",
    "# Rellenar las filas con menos columnas con ceros\n",
    "filled_data = [row + ['0']*(max_columns - len(row)) for row in data]\n",
    "\n",
    "# Convertir a un array numpy, ignorando cualquier fila con datos no convertibles\n",
    "datos_todos = np.array(filled_data, dtype=int)\n",
    "\n",
    "# Imprimir una fila específica para verificar\n",
    "print(datos_todos[26479])\n",
    "\n",
    "\n",
    "\n"
   ]
  },
  {
   "cell_type": "code",
   "execution_count": null,
   "metadata": {},
   "outputs": [],
   "source": [
    "#Punto 1"
   ]
  }
 ],
 "metadata": {
  "kernelspec": {
   "display_name": "Python 3",
   "language": "python",
   "name": "python3"
  },
  "language_info": {
   "codemirror_mode": {
    "name": "ipython",
    "version": 3
   },
   "file_extension": ".py",
   "mimetype": "text/x-python",
   "name": "python",
   "nbconvert_exporter": "python",
   "pygments_lexer": "ipython3",
   "version": "3.11.9"
  }
 },
 "nbformat": 4,
 "nbformat_minor": 2
}
