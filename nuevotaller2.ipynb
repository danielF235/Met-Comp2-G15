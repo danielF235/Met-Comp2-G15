{
 "cells": [
  {
   "cell_type": "code",
   "execution_count": 7,
   "metadata": {},
   "outputs": [
    {
     "name": "stdout",
     "output_type": "stream",
     "text": [
      "[[1945    1    1   10]\n",
      " [1945    1    2    0]\n",
      " [1945    1    3    1]\n",
      " ...\n",
      " [2017    6   28   13]\n",
      " [2017    6   29   10]\n",
      " [2017    6   30    9]]\n"
     ]
    }
   ],
   "source": [
    "import numpy as np\n",
    "import matplotlib.pyplot as plt\n",
    "import pandas as pd\n",
    "\n",
    "url = \"https://ngdc.noaa.gov/stp/space-weather/solar-data/solar-indices/sunspot-numbers/american/lists/list_aavso-arssn_daily.txt\"\n",
    "ignore = 26665-26481\n",
    "datos_todos = np.genfromtxt(url, skip_header=2,  skip_footer=ignore ).astype(int)\n",
    "columna_tercera = datos_todos[:, 2]\n",
    "columna_cuarta = datos_todos[:, 3]\n",
    "dias = np.arange(1, 26479+ 1)\n",
    "\n",
    "print(datos_todos)\n",
    "\n",
    "\n",
    "\n"
   ]
  },
  {
   "cell_type": "code",
   "execution_count": 6,
   "metadata": {},
   "outputs": [],
   "source": [
    "#Punto 1"
   ]
  }
 ],
 "metadata": {
  "kernelspec": {
   "display_name": "Python 3",
   "language": "python",
   "name": "python3"
  },
  "language_info": {
   "codemirror_mode": {
    "name": "ipython",
    "version": 3
   },
   "file_extension": ".py",
   "mimetype": "text/x-python",
   "name": "python",
   "nbconvert_exporter": "python",
   "pygments_lexer": "ipython3",
   "version": "3.11.9"
  }
 },
 "nbformat": 4,
 "nbformat_minor": 2
}
