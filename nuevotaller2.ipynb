{
 "cells": [
  {
   "cell_type": "code",
   "execution_count": 64,
   "metadata": {},
   "outputs": [],
   "source": [
    "import numpy as np\n",
    "import matplotlib.pyplot as plt\n",
    "import pandas as pd\n",
    "\n",
    "url = \"https://ngdc.noaa.gov/stp/space-weather/solar-data/solar-indices/sunspot-numbers/american/lists/list_aavso-arssn_daily.txt\"\n",
    "ignore = 26665-26481\n",
    "datos_todos = np.genfromtxt(url, skip_header=2,  skip_footer=ignore ).astype(int)\n",
    "columna_tercera = datos_todos[:, 2]\n",
    "columna_cuarta = datos_todos[:, 3]\n",
    "dias = np.arange(1, 26479+ 1)\n",
    "\n",
    "\n",
    "\n",
    "\n",
    "\n"
   ]
  },
  {
   "cell_type": "markdown",
   "metadata": {},
   "source": [
    "<font size=\"5\">**Punto 1**.</font>\n",
    "\n"
   ]
  },
  {
   "cell_type": "markdown",
   "metadata": {},
   "source": [
    "<font size=\"4\">***Inciso 1.1***.</font>\n"
   ]
  },
  {
   "cell_type": "code",
   "execution_count": 65,
   "metadata": {},
   "outputs": [
    {
     "name": "stdout",
     "output_type": "stream",
     "text": [
      "El período del ciclo de actividad solar es 10.363600782778864 años\n"
     ]
    }
   ],
   "source": [
    "ruido_x = 0.5 * np.random.normal(size=dias.shape)\n",
    "dias_perturbados = dias + ruido_x\n",
    "y=columna_cuarta\n",
    "frecuencia_muestreo=1 #De los datos uno puede ver que es aproximadamente un día.\n",
    "frecuencias=np.fft.fftfreq(len(y),frecuencia_muestreo)\n",
    "transformada=np.fft.fft(y)\n",
    "modulo=np.abs(transformada)\n",
    "modulo_sin_corrimiento=modulo[1:] #Tocó quitar el primero porque por mucho ruido que le metí no funcionó.\n",
    "indice_max=np.argmax(modulo_sin_corrimiento)\n",
    "modulo_max,frecuencia_principal=modulo[indice_max+1],np.abs(frecuencias[indice_max+1])\n",
    "periodo=(1/frecuencia_principal)/365\n",
    "print(\"El período del ciclo de actividad solar es \" + str(periodo)+ \" años\")\n"
   ]
  },
  {
   "cell_type": "markdown",
   "metadata": {},
   "source": [
    "<font size=\"4\">***Inciso 1.2***.</font>\n"
   ]
  },
  {
   "cell_type": "code",
   "execution_count": 66,
   "metadata": {},
   "outputs": [],
   "source": [
    "#1.2.a\n",
    "frecuencias_abs=np.abs(frecuencias)\n",
    "\n",
    "def gauss(alpha,f):\n",
    "    return np.exp(-(alpha*f)**2)\n",
    "\n",
    "t_filtrada=transformada*gauss(1000,frecuencias_abs)"
   ]
  }
 ],
 "metadata": {
  "kernelspec": {
   "display_name": "Python 3",
   "language": "python",
   "name": "python3"
  },
  "language_info": {
   "codemirror_mode": {
    "name": "ipython",
    "version": 3
   },
   "file_extension": ".py",
   "mimetype": "text/x-python",
   "name": "python",
   "nbconvert_exporter": "python",
   "pygments_lexer": "ipython3",
   "version": "3.11.9"
  }
 },
 "nbformat": 4,
 "nbformat_minor": 2
}
