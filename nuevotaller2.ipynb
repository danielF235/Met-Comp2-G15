{
 "cells": [
  {
   "cell_type": "code",
   "execution_count": 15,
   "metadata": {},
   "outputs": [
    {
     "name": "stdout",
     "output_type": "stream",
     "text": [
      "[    1     2     3 ... 26661 26662 26663]\n"
     ]
    }
   ],
   "source": [
    "import numpy as np\n",
    "import matplotlib.pyplot as plt\n",
    "import pandas as pd\n",
    "import urllib.request\n",
    "\n",
    "url = \"https://ngdc.noaa.gov/stp/space-weather/solar-data/solar-indices/sunspot-numbers/american/lists/list_aavso-arssn_daily.txt\"\n",
    "with urllib.request.urlopen(url) as response:\n",
    "    lines = [line.decode('utf-8').strip() for line in response.readlines() if not line.startswith(b'#')]\n",
    "data = [line.split() for line in lines]\n",
    "data = [row for row in data if row[0].replace('.', '', 1).isdigit()]\n",
    "max_columns = max(len(row) for row in data)\n",
    "filled_data = [row + ['0']*(max_columns - len(row)) for row in data]\n",
    "datos_todos = np.array(filled_data, dtype=int)\n",
    "columna_tercera = datos_todos[:, 2]\n",
    "columna_cuarta = datos_todos[:, 3]\n",
    "dias = np.arange(1, 26663+ 1)\n",
    "\n",
    "\n",
    "\n",
    "\n",
    "\n"
   ]
  },
  {
   "cell_type": "code",
   "execution_count": 6,
   "metadata": {},
   "outputs": [],
   "source": [
    "#Punto 1"
   ]
  }
 ],
 "metadata": {
  "kernelspec": {
   "display_name": "Python 3",
   "language": "python",
   "name": "python3"
  },
  "language_info": {
   "codemirror_mode": {
    "name": "ipython",
    "version": 3
   },
   "file_extension": ".py",
   "mimetype": "text/x-python",
   "name": "python",
   "nbconvert_exporter": "python",
   "pygments_lexer": "ipython3",
   "version": "3.11.9"
  }
 },
 "nbformat": 4,
 "nbformat_minor": 2
}
