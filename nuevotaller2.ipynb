{
 "cells": [
  {
   "cell_type": "code",
   "execution_count": 6,
   "metadata": {},
   "outputs": [
    {
     "name": "stdout",
     "output_type": "stream",
     "text": [
      "[[1.945e+03 1.000e+00 1.000e+00 1.000e+01]\n",
      " [1.945e+03 1.000e+00 2.000e+00 0.000e+00]\n",
      " [1.945e+03 1.000e+00 3.000e+00 1.000e+00]\n",
      " ...\n",
      " [2.017e+03 6.000e+00 2.800e+01 1.300e+01]\n",
      " [2.017e+03 6.000e+00 2.900e+01 1.000e+01]\n",
      " [2.017e+03 6.000e+00 3.000e+01 9.000e+00]]\n"
     ]
    }
   ],
   "source": [
    "import numpy as np\n",
    "import matplotlib.pyplot as plt\n",
    "import pandas as pd\n",
    "\n",
    "url = \"https://ngdc.noaa.gov/stp/space-weather/solar-data/solar-indices/sunspot-numbers/american/lists/list_aavso-arssn_daily.txt\"\n",
    "ignore = 26665-26481\n",
    "datos_todos = np.genfromtxt(url, skip_header=2,  skip_footer=ignore )\n",
    "columna_tercera = datos_todos[:, 2]\n",
    "columna_cuarta = datos_todos[:, 3]\n",
    "dias = np.arange(1, 26479+ 1)\n",
    "\n",
    "print(datos_todos)\n",
    "\n",
    "\n",
    "\n"
   ]
  },
  {
   "cell_type": "code",
   "execution_count": 6,
   "metadata": {},
   "outputs": [],
   "source": [
    "#Punto 1"
   ]
  }
 ],
 "metadata": {
  "kernelspec": {
   "display_name": "Python 3",
   "language": "python",
   "name": "python3"
  },
  "language_info": {
   "codemirror_mode": {
    "name": "ipython",
    "version": 3
   },
   "file_extension": ".py",
   "mimetype": "text/x-python",
   "name": "python",
   "nbconvert_exporter": "python",
   "pygments_lexer": "ipython3",
   "version": "3.11.9"
  }
 },
 "nbformat": 4,
 "nbformat_minor": 2
}
