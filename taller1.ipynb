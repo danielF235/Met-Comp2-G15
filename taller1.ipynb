{
 "cells": [
  {
   "cell_type": "code",
   "execution_count": 1,
   "metadata": {},
   "outputs": [],
   "source": [
    "import numpy as np\n",
    "import scipy\n",
    "import matplotlib.pyplot as plt"
   ]
  },
  {
   "cell_type": "code",
   "execution_count": null,
   "metadata": {},
   "outputs": [],
   "source": [
    "#Punto 1\n",
    "\n",
    "def DFT(x, y)->tuple:\n",
    "    x, y = np.array(x), np.array(y)\n",
    "    N = np.size(y)\n",
    "    fk = np.linspace(0, (1/2)*(1/(x[-1]-x[0])), N)\n",
    "    freq = np.zeros(N)\n",
    "    for k in range(N):\n",
    "        freq[k] = y*np.exp(-np.pi*(2j)*x*fk[k]).sum()\n",
    "    return (fk, freq)\n",
    "    \n",
    "        \n",
    "    \n",
    "    "
   ]
  }
 ],
 "metadata": {
  "kernelspec": {
   "display_name": "Python 3",
   "language": "python",
   "name": "python3"
  },
  "language_info": {
   "codemirror_mode": {
    "name": "ipython",
    "version": 3
   },
   "file_extension": ".py",
   "mimetype": "text/x-python",
   "name": "python",
   "nbconvert_exporter": "python",
   "pygments_lexer": "ipython3",
   "version": "3.11.3"
  }
 },
 "nbformat": 4,
 "nbformat_minor": 2
}
