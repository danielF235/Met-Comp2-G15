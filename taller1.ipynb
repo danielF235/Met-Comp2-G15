{
 "cells": [
  {
   "cell_type": "code",
   "execution_count": 2,
   "metadata": {},
   "outputs": [],
   "source": [
    "import numpy as np\n",
    "import scipy\n",
    "import matplotlib.pyplot as plt"
   ]
  },
  {
   "cell_type": "code",
   "execution_count": 3,
   "metadata": {},
   "outputs": [],
   "source": [
    "#Punto 1\n",
    "\n",
    "def DFT(x, y)->tuple:\n",
    "    x, y = np.array(x), np.array(y)\n",
    "    N = np.size(y)\n",
    "    fk = np.linspace(0, (1/2)*(1/(x[-1]-x[0])), N)\n",
    "    freq = np.zeros(N)\n",
    "    for k in range(N):\n",
    "        freq[k] = y*np.exp(-np.pi*(2j)*x*fk[k]).sum()\n",
    "    return (fk, freq)"
   ]
  },
  {
   "cell_type": "code",
   "execution_count": 4,
   "metadata": {},
   "outputs": [
    {
     "ename": "ValueError",
     "evalue": "setting an array element with a sequence.",
     "output_type": "error",
     "traceback": [
      "\u001b[1;31m---------------------------------------------------------------------------\u001b[0m",
      "\u001b[1;31mTypeError\u001b[0m                                 Traceback (most recent call last)",
      "\u001b[1;31mTypeError\u001b[0m: only size-1 arrays can be converted to Python scalars",
      "\nThe above exception was the direct cause of the following exception:\n",
      "\u001b[1;31mValueError\u001b[0m                                Traceback (most recent call last)",
      "Cell \u001b[1;32mIn[4], line 9\u001b[0m\n\u001b[0;32m      5\u001b[0m t\u001b[38;5;241m=\u001b[39mnp\u001b[38;5;241m.\u001b[39mlinspace(\u001b[38;5;241m0\u001b[39m,\u001b[38;5;241m20\u001b[39m,\u001b[38;5;241m100\u001b[39m)\n\u001b[0;32m      7\u001b[0m signal\u001b[38;5;241m=\u001b[39mSignal(t)\n\u001b[1;32m----> 9\u001b[0m frecuencias, transformada\u001b[38;5;241m=\u001b[39m DFT(t,signal)\n",
      "Cell \u001b[1;32mIn[3], line 9\u001b[0m, in \u001b[0;36mDFT\u001b[1;34m(x, y)\u001b[0m\n\u001b[0;32m      7\u001b[0m freq \u001b[38;5;241m=\u001b[39m np\u001b[38;5;241m.\u001b[39mzeros(N)\n\u001b[0;32m      8\u001b[0m \u001b[38;5;28;01mfor\u001b[39;00m k \u001b[38;5;129;01min\u001b[39;00m \u001b[38;5;28mrange\u001b[39m(N):\n\u001b[1;32m----> 9\u001b[0m     freq[k] \u001b[38;5;241m=\u001b[39m y\u001b[38;5;241m*\u001b[39mnp\u001b[38;5;241m.\u001b[39mexp(\u001b[38;5;241m-\u001b[39mnp\u001b[38;5;241m.\u001b[39mpi\u001b[38;5;241m*\u001b[39m(\u001b[38;5;241m2\u001b[39mj)\u001b[38;5;241m*\u001b[39mx\u001b[38;5;241m*\u001b[39mfk[k])\u001b[38;5;241m.\u001b[39msum()\n\u001b[0;32m     10\u001b[0m \u001b[38;5;28;01mreturn\u001b[39;00m (fk, freq)\n",
      "\u001b[1;31mValueError\u001b[0m: setting an array element with a sequence."
     ]
    }
   ],
   "source": [
    "#Punto 2\n",
    "\n",
    "def Signal (t):\n",
    "    return np.sin(2*np.pi*np.sqrt(2)*t)\n",
    "t=np.linspace(0,20,100)\n",
    "\n",
    "signal=Signal(t)\n",
    "\n",
    "frecuencias, transformada= DFT(t,signal)\n"
   ]
  }
 ],
 "metadata": {
  "kernelspec": {
   "display_name": "Python 3",
   "language": "python",
   "name": "python3"
  },
  "language_info": {
   "codemirror_mode": {
    "name": "ipython",
    "version": 3
   },
   "file_extension": ".py",
   "mimetype": "text/x-python",
   "name": "python",
   "nbconvert_exporter": "python",
   "pygments_lexer": "ipython3",
   "version": "3.11.4"
  }
 },
 "nbformat": 4,
 "nbformat_minor": 2
}
