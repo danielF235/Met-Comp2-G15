{
 "cells": [
  {
   "cell_type": "code",
   "execution_count": 101,
   "metadata": {},
   "outputs": [],
   "source": [
    "from scipy.integrate import solve_ivp\n",
    "import numpy as np\n",
    "import matplotlib as mpl\n",
    "import matplotlib.pyplot as plt\n",
    "import matplotlib.animation as animation\n",
    "from IPython.display import HTML\n",
    "from IPython.display import Video\n",
    "\n",
    "plt.rcParams['animation.embed_limit'] = 2**128"
   ]
  },
  {
   "cell_type": "markdown",
   "metadata": {},
   "source": [
    "<font size=\"5\">**Punto 1**.</font>"
   ]
  },
  {
   "cell_type": "code",
   "execution_count": null,
   "metadata": {},
   "outputs": [],
   "source": [
    "sin = np.sin\n",
    "cos = np.cos\n",
    "\n",
    "def system(t,y, theta, gamma, mass,h):\n",
    "    g = 9.81\n",
    "    x,v = y\n",
    "    return [v, g*sin(theta) - (gamma/mass)*v**2] #La ecuación diferencial se resuelve con la coordenada del carro\n",
    "\n",
    "\n",
    "def stop(t, y, theta,gamma,mass, h): #Definición función de parada\n",
    "    x,v = y\n",
    "    return x-h/sin(theta) #Para cuando: return=0\n",
    "stop.terminal = True  #hace que se detenga\n",
    "stop.direction = 1\n",
    "\n",
    "#Condiciones del sistema\n",
    "masas = np.arange(1,50,1)\n",
    "theta = np.deg2rad(30)\n",
    "h = 10\n",
    "y0 = np.array([0.,0.])\n",
    "t_span = (0,10) \n",
    "masa0 = 5\n",
    "#Soluciones al sistema para distintas masas\n",
    "j = 0\n",
    "tiempos_caida = np.zeros(np.size(masas))\n",
    "for i in masas:\n",
    "    args = [theta, 0.7, masa0 + i,h] #ángulo theta, coeficiente gamma, la masa de cada carro y la altura.\n",
    "    sol = solve_ivp(\n",
    "        system, \n",
    "        y0=y0, \n",
    "        t_span=t_span, \n",
    "        args=args, \n",
    "        max_step=0.05,\n",
    "        events=stop,\n",
    "        dense_output=0\n",
    "        )\n",
    "    coord = np.array([cos(theta)*sol.y[0], sin(-theta)*sol.y[0]]) #Cambio de coordenadas a x,y\n",
    "    coord[1,:] += h #ajuste de coordenadas\n",
    "    if sol.t_events[0].size > 0:  # Para cuando está en y=0\n",
    "        tiempo_caida = sol.t_events[0][0]\n",
    "        tiempos_caida[j] = tiempo_caida\n",
    "        j+=1\n",
    "\n",
    "plt.ion()\n",
    "plt.plot(tiempos_caida, masas+5) \n",
    "plt.title(\"Masa vs tiempo de caída\")\n",
    "plt.ylabel(\"Masa total [kg]\")\n",
    "plt.xlabel(\"Tiempo de caída [s]\")\n",
    "plt.show()"
   ]
  },
  {
   "cell_type": "markdown",
   "metadata": {},
   "source": [
    "¿El tiempo de caída de los carros depende de la masa que llevan encima? De acuerdo con nuestro sistema y debido a la fricción líquida, sí depende el tiempo de caida de la masa total."
   ]
  },
  {
   "cell_type": "markdown",
   "metadata": {},
   "source": [
    "<font size=\"5\">**Punto 2**.</font>"
   ]
  },
  {
   "cell_type": "code",
   "execution_count": 129,
   "metadata": {},
   "outputs": [
    {
     "name": "stdout",
     "output_type": "stream",
     "text": [
      "La pendiente en arcseg/siglo es : 42.98667330202591\n"
     ]
    },
    {
     "data": {
      "image/png": "[encoded data removed]",
      "text/plain": [
       "<Figure size 640x480 with 1 Axes>"
      ]
     },
     "metadata": {},
     "output_type": "display_data"
    }
   ],
   "source": [
    "mu = 39.4234021 # GM\n",
    "alpha = 1.09778201e-8 # 3(L/mc)^2\n",
    "a = 0.38709893 #semieje mayor\n",
    "e = 0.20563069 #excentricidad\n",
    "\n",
    "#Posiciones iniciales\n",
    "x0 = a*(1+e)\n",
    "y0 = 0\n",
    "r0 = np.array((x0, y0))\n",
    "\n",
    "#velocidades iniciales\n",
    "vx0 = 0\n",
    "vy0 = np.sqrt((mu/a)*((1-e)/(1+e)))\n",
    "vr0 = np.array((vx0, vy0))\n",
    "\n",
    "#condiciones sistema\n",
    "t_span=(0.,10.)\n",
    "Y0 = np.hstack((r0, vr0)) #une r0, vr0 \n",
    "\n",
    "\n",
    "def system(t, Y):\n",
    "    x,y,vx,vy = Y\n",
    "    r_vec = np.array([x, y]) #Vector (x,y)\n",
    "    Ydot = np.array([vx,vy,0.,0.])\n",
    "    r = np.linalg.norm(r_vec) #magnitud de r\n",
    "    r_unitario = r_vec/r\n",
    "    a_vec = -(mu/ r**2)*(1+(alpha/r**2))*r_unitario #ec diferencial\n",
    "    Ydot[2] = a_vec[0]\n",
    "    Ydot[3] = a_vec[1]\n",
    "    return Ydot\n",
    "\n",
    "def evento_vr_cero(t, Y):\n",
    "    r_vec = Y[:2]  #Vector (x,y)\n",
    "    v_vec = Y[2:]  #vector (vx, vy)\n",
    "    return np.dot(r_vec, v_vec) #producto punto r*v\n",
    "\n",
    "sol = solve_ivp(system,\n",
    "                t_span=t_span, \n",
    "                y0=Y0,\n",
    "                max_step=1e-3,\n",
    "                dense_output=True,\n",
    "                events = evento_vr_cero\n",
    "                )\n",
    "\n",
    "\n",
    "lejos_cerca = sol.y_events[0][:, :2]\n",
    "eventos_tiempos = sol.t_events[0]\n",
    "r = np.array([sol.y[0],sol.y[1]])\n",
    "v = np.array([sol.y[2],sol.y[3]]) \n",
    "pi = np.pi\n",
    "pi2 = 2*pi\n",
    "angles = np.arctan2(lejos_cerca[:,1], lejos_cerca[:,0]) # No se que sale mal en precesión (arctan2 da angulos entre [-pi, pi])\n",
    "for i in range(np.size(angles)):\n",
    "    if angles[i]<0:\n",
    "        angles[i] = angles[i] + pi2\n",
    "    cercapi = np.absolute(angles[i]-pi)\n",
    "    cerca2pi = np.absolute(angles[i]-pi2)\n",
    "    if cercapi<np.abs(angles[i]) and cercapi<cerca2pi:\n",
    "        angles[i] = cercapi\n",
    "    elif cerca2pi<np.abs(angles[i]) and cerca2pi<cercapi:\n",
    "        angles[i] = cerca2pi\n",
    "    else:\n",
    "        angles[i] = np.abs(angles[i])\n",
    "\n",
    "angles = np.rad2deg(angles)*3600\n",
    "pendiente = (angles[-1] - angles[0]) / (eventos_tiempos[-1] - eventos_tiempos[0])\n",
    "print(f\"La pendiente en arcseg/siglo es : {pendiente*100}\")\n",
    "#plt.plot(sol.t, v[0]**2 + v[1]**2 + mu/(np.sqrt(r[0]**2 + r[1]**2)) ) #Energia\n",
    "plt.plot(eventos_tiempos, label = f\"m={pendiente}\")\n",
    "plt.legend()\n",
    "plt.title(\"Arcseg vs años\")\n",
    "\n",
    "plt.show()\n",
    "#plt.scatter(lejos_cerca[:,0], lejos_cerca[:,1], c=\"r\", label=\"Puntos +cerca y +lejos\")\n",
    "#plt.scatter(0,0, label=\"Sol\", c=\"y\")\n",
    "#plt.axis(\"equal\")\n",
    "#plt.plot(r[0], r[1])\n",
    "#plt.show()\n"
   ]
  },
  {
   "cell_type": "markdown",
   "metadata": {},
   "source": [
    "Mercurio es de 42.9799. Compare sus resultados con este valor y discuta.\n",
    "\n",
    "Nuestro valor es de 42.98667330202591, tiene sentido y se ajusta con presición y exactitud a los valores experimentales."
   ]
  },
  {
   "cell_type": "code",
   "execution_count": 104,
   "metadata": {},
   "outputs": [],
   "source": [
    "#ANIMACIÓN\n",
    "plt.ioff()\n",
    "t_dense = np.linspace(sol.t[0],sol.t[-2],1000)\n",
    "Y_dense = sol.sol(t_dense)\n",
    "x_dense,y_dense,vx_dense,vy_dense = Y_dense\n",
    "\n",
    "\n",
    "fig = plt.figure()\n",
    "ax = plt.axes()\n",
    "ax.set_facecolor(\"black\")\n",
    "fig.patch.set_facecolor('black')\n",
    "plt.xlim(x_dense.min()-0.5,x_dense.max()+0.5)\n",
    "plt.ylim(y_dense.min()-0.5,y_dense.max()+0.5)\n",
    "\n",
    "point = plt.scatter(*Y0[:2], color='white')\n",
    "line = plt.plot(*Y0[:2], color='white')[0]\n",
    "plt.scatter(0,0, s=100, c=\"yellow\", label= \"Sol\")\n",
    "\n",
    "\n",
    "# Línea semitransparente del cuarto anterior\n",
    "\n",
    "\n",
    "def func(frame):\n",
    "    # update scatter\n",
    "    point.set_offsets(Y_dense[:2,frame])\n",
    "    # update line\n",
    "    if frame>1:\n",
    "        line.set_data(x_dense[:frame+1],y_dense[:frame+1])\n",
    "        \n",
    "    \n",
    "    return point,line\n",
    "plt.title(\"Órbita\", color='white')  # Título en blanco\n",
    "anim = animation.FuncAnimation(fig,func,frames=range(len(t_dense)),interval=20)\n",
    "\n",
    "#anim.save('mercurio.mp4', writer='ffmpeg', savefig_kwargs=dict(facecolor='#000000')) #Guarda la animación, no funciona si no está instalado ffmpeg"
   ]
  },
  {
   "cell_type": "code",
   "execution_count": 130,
   "metadata": {},
   "outputs": [
    {
     "data": {
      "text/html": [
       "<video src=\"mercurio.mp4\" controls  >\n",
       "      Your browser does not support the <code>video</code> element.\n",
       "    </video>"
      ],
      "text/plain": [
       "<IPython.core.display.Video object>"
      ]
     },
     "execution_count": 130,
     "metadata": {},
     "output_type": "execute_result"
    }
   ],
   "source": [
    "\n",
    "Video(\"mercurio.mp4\") #mercury raro, mercurio es con alpha e-2\n"
   ]
  }
 ],
 "metadata": {
  "kernelspec": {
   "display_name": "Python 3",
   "language": "python",
   "name": "python3"
  },
  "language_info": {
   "codemirror_mode": {
    "name": "ipython",
    "version": 3
   },
   "file_extension": ".py",
   "mimetype": "text/x-python",
   "name": "python",
   "nbconvert_exporter": "python",
   "pygments_lexer": "ipython3",
   "version": "3.11.3"
  }
 },
 "nbformat": 4,
 "nbformat_minor": 2
}
