{
 "cells": [
  {
   "cell_type": "code",
   "execution_count": null,
   "metadata": {},
   "outputs": [],
   "source": [
    "#Punto 1\n",
    "import numpy as np\n",
    "import matplotlib.pyplot as plt\n",
    "\n",
    "\n",
    "frecuencia_muestreo=1 #Podemos ver que los datos se toman cada un día aproximadamente\n",
    "transformada=np.fft.ftt()\n",
    "frecuencias=np.fft.fftfreq(len(transformada),frecuencia_muestreo)\n",
    "modulo_transformada=np.abs(transformada)\n",
    "indice_max=np.argmax(modulo_transformada)\n",
    "frecuencia_principal=frecuencias[indice_max]\n",
    "\n"
   ]
  }
 ],
 "metadata": {
  "kernelspec": {
   "display_name": "Python 3",
   "language": "python",
   "name": "python3"
  },
  "language_info": {
   "name": "python",
   "version": "3.11.9"
  }
 },
 "nbformat": 4,
 "nbformat_minor": 2
}
